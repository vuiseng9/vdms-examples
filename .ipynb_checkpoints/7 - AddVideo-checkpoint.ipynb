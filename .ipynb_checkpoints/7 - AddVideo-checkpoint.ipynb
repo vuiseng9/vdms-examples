{
 "cells": [
  {
   "cell_type": "code",
   "execution_count": null,
   "metadata": {},
   "outputs": [],
   "source": [
    "import vdms\n",
    "import util\n",
    "\n",
    "db = vdms.vdms()\n",
    "db.connect(\"localhost\")"
   ]
  },
  {
   "cell_type": "code",
   "execution_count": null,
   "metadata": {},
   "outputs": [],
   "source": [
    "blobs = []\n",
    "fd = open(\"videos/Megamind.mp4\", 'rb')\n",
    "blobs.append(fd.read())\n",
    "fd.close()"
   ]
  },
  {
   "cell_type": "code",
   "execution_count": null,
   "metadata": {},
   "outputs": [],
   "source": [
    "query = [ {   \n",
    "    \"AddVideo\": {\n",
    "        \"properties\":{ \n",
    "            \"name\": \"megamind_clip\"\n",
    "        }, \n",
    "        \"codec\": \"h264\",\n",
    "        \"container\": \"mp4\"\n",
    "    }   \n",
    "}\n",
    "]\n",
    "\n",
    "resp, res_blob = db.query(query, [blobs])\n",
    "print(resp)"
   ]
  },
  {
   "cell_type": "code",
   "execution_count": null,
   "metadata": {},
   "outputs": [],
   "source": [
    "%%javascript\n",
    "IPython.OutputArea.prototype._should_scroll = function(lines) {\n",
    "    return false;\n",
    "}"
   ]
  },
  {
   "cell_type": "code",
   "execution_count": null,
   "metadata": {},
   "outputs": [],
   "source": [
    "qry = [ {\n",
    "    \"FindFrames\": {\n",
    "        \"frames\": [20, 50, 100],\n",
    "        \"constraints\": {\n",
    "            \"name\": [\"==\", \"megamind_clip\"]\n",
    "        }, \n",
    "        \"format\": \"jpg\"\n",
    "    }\n",
    "}\n",
    "]\n",
    "\n",
    "response, blob = db.query(qry)\n",
    "\n",
    "print(response)\n",
    "print(\"First Frame Size:\", len(blob[0])/1024, \"KB\")\n",
    "\n",
    "util.display_images(blob)    \n",
    "print (\"Number of images:\", len(blob))"
   ]
  },
  {
   "cell_type": "code",
   "execution_count": null,
   "metadata": {},
   "outputs": [],
   "source": [
    "qry = [ {\n",
    "    \"FindFrames\": {\n",
    "        \"frames\": [100],\n",
    "        \"constraints\": {\n",
    "            \"name\": [\"==\", \"megamind_clip\"]\n",
    "        }, \n",
    "        \"format\": \"jpg\", \n",
    "        \"operations\": [{\n",
    "            \"type\": \"crop\",\n",
    "            \"height\": 200,\n",
    "            \"width\": 200,\n",
    "            \"x\": 400,\n",
    "            \"y\": 100\n",
    "        },{\n",
    "            \"type\": \"resize\",\n",
    "            \"height\": 400,\n",
    "            \"width\": 400\n",
    "        }, \n",
    "        ]\n",
    "    }\n",
    "}\n",
    "]\n",
    "\n",
    "response, blob = db.query(qry)\n",
    "\n",
    "print(response)\n",
    "print(\"First Frame Size:\", len(blob[0])/1024, \"KB\")\n",
    "\n",
    "util.display_images(blob)    \n",
    "print (\"Number of images:\", len(blob))"
   ]
  },
  {
   "cell_type": "code",
   "execution_count": null,
   "metadata": {},
   "outputs": [],
   "source": []
  }
 ],
 "metadata": {
  "kernelspec": {
   "display_name": "Python 3",
   "language": "python",
   "name": "python3"
  },
  "language_info": {
   "codemirror_mode": {
    "name": "ipython",
    "version": 3
   },
   "file_extension": ".py",
   "mimetype": "text/x-python",
   "name": "python",
   "nbconvert_exporter": "python",
   "pygments_lexer": "ipython3",
   "version": "3.5.2"
  }
 },
 "nbformat": 4,
 "nbformat_minor": 2
}
